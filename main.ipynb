{
 "cells": [
  {
   "cell_type": "code",
   "execution_count": 18,
   "metadata": {},
   "outputs": [
    {
     "name": "stdout",
     "output_type": "stream",
     "text": [
      "Archive:  nips-papers.zip\n",
      "  inflating: authors.csv             \n",
      "  inflating: database.sqlite         \n",
      "  inflating: paper_authors.csv       \n",
      "  inflating: papers.csv              \n"
     ]
    }
   ],
   "source": [
    "!unzip nips-papers.zip"
   ]
  }
 ],
 "metadata": {
  "kernelspec": {
   "display_name": "Python 3",
   "language": "python",
   "name": "python3"
  },
  "language_info": {
   "name": "python",
   "version": "3.6.15"
  },
  "orig_nbformat": 4
 },
 "nbformat": 4,
 "nbformat_minor": 2
}
